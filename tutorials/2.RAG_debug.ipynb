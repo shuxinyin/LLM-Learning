{
 "cells": [
  {
   "cell_type": "code",
   "execution_count": 29,
   "metadata": {},
   "outputs": [],
   "source": [
    "import os\n",
    "from langchain.chat_models import ChatOpenAI\n",
    "from langchain.schema import AIMessage, HumanMessage, SystemMessage, ChatMessage\n",
    "from langchain.text_splitter import CharacterTextSplitter, RecursiveCharacterTextSplitter\n",
    "from langchain_community.document_loaders import UnstructuredWordDocumentLoader, CSVLoader\n",
    "from langchain_community.vectorstores import FAISS\n",
    "from langchain_community.embeddings import HuggingFaceEmbeddings\n",
    "from typing import Dict, List, Optional, Tuple, Union\n",
    "\n",
    "import warnings\n",
    "\n",
    "warnings.filterwarnings(\"ignore\")"
   ]
  },
  {
   "cell_type": "markdown",
   "source": [
    "## 1.文档分割"
   ],
   "metadata": {
    "collapsed": false
   }
  },
  {
   "cell_type": "code",
   "outputs": [],
   "source": [
    "text_splitter = RecursiveCharacterTextSplitter(chunk_size=4000, chunk_overlap=200)\n",
    "documents = CSVLoader(file_path=\"../data/test_data.csv\", encoding=\"utf-8\").load()\n",
    "docs = text_splitter.split_documents(documents)"
   ],
   "metadata": {
    "collapsed": false
   }
  },
  {
   "cell_type": "markdown",
   "source": [
    "## 2.向量库加载"
   ],
   "metadata": {
    "collapsed": false
   }
  },
  {
   "cell_type": "code",
   "outputs": [],
   "source": [
    "EmbeddingModel = HuggingFaceEmbeddings(model_name=\"D:/MyProject/TorchProject/NLP/model_hub/bge-small-zh-v1.5\",\n",
    "                                       model_kwargs={'device': 'cpu'},\n",
    "                                       encode_kwargs={'normalize_embeddings': True})\n",
    "vector_save_path = 'VectorStores/test_storage'\n",
    "if not os.path.exists(vector_save_path):\n",
    "    vector = FAISS.from_documents(docs, EmbeddingModel)\n",
    "    vector.save_local(vector_save_path)\n",
    "else:\n",
    "    vector = FAISS.load_local(folder_path=vector_save_path, embeddings=EmbeddingModel,\n",
    "                              allow_dangerous_deserialization=True)"
   ],
   "metadata": {
    "collapsed": false
   }
  },
  {
   "cell_type": "markdown",
   "source": [
    "## 3.LLM Chat Model定义"
   ],
   "metadata": {
    "collapsed": false
   }
  },
  {
   "cell_type": "code",
   "execution_count": 41,
   "metadata": {},
   "outputs": [],
   "source": [
    "PROMPT_TEMPLATE = dict(\n",
    "    RAG_PROMPT_TEMPALTE=\"\"\"结合以上下文来回答用户的问题。\n",
    "        问题: {question}\n",
    "        可参考的上下文：\n",
    "        ···\n",
    "        {context}\n",
    "        ···\n",
    "        如果给定的上下文无法让你做出回答，请回答数据库中没有这个内容，不要臆想推测，请使用中文回答。\n",
    "        回答:\"\"\",\n",
    ")\n",
    "\n",
    "\n",
    "class MyChatOpenAI():\n",
    "    def __init__(self, model: str = \"Qwen2.5-7B-Instruct\",\n",
    "                 api_key: str = \"OPENAI_API_KEY\",\n",
    "                 base_url: str = \"http://localhost:6006/v1\",\n",
    "                 temperature: float = 0.1) -> None:\n",
    "        super().__init__()\n",
    "        self.client = ChatOpenAI(\n",
    "            api_key=api_key,\n",
    "            base_url=base_url,\n",
    "            temperature=temperature,\n",
    "            model_name=model\n",
    "        )\n",
    "\n",
    "    def llm_chat(self, prompt: str, history: List[dict], content: str) -> str:\n",
    "        history.append(\n",
    "            HumanMessage(content=PROMPT_TEMPLATE['RAG_PROMPT_TEMPALTE'].format(question=prompt, context=content))\n",
    "        )\n",
    "        response = self.client(messages=history)\n",
    "        return response.content"
   ]
  },
  {
   "cell_type": "markdown",
   "source": [
    "## 4.RAG问答"
   ],
   "metadata": {
    "collapsed": false
   }
  },
  {
   "cell_type": "code",
   "execution_count": 43,
   "metadata": {},
   "outputs": [
    {
     "name": "stderr",
     "output_type": "stream",
     "text": [
      "Calculating embeddings: 100%|█████████████████████████████████████████████████████████| 46/46 [00:00<00:00, 128.71it/s]\n"
     ]
    },
    {
     "name": "stdout",
     "output_type": "stream",
     "text": [
      "Git是一种分布式版本控制系统，用于跟踪文件的变化并支持协作开发。它可以让每个开发者拥有整个代码库的历史记录，无需依赖中央服务器，并且分支和合并操作非常高效，适合大型项目的开发。\n"
     ]
    }
   ],
   "source": [
    "query = '为什么人在剧烈活动后不能马上停下来'\n",
    "contents = vector.similarity_search_with_score(query, k=3)\n",
    "print(f\"检索结果： {contents}\")\n",
    "context = [c[0].page_content for c in contents]\n",
    "print(f\"检索结果文本： {context}\")\n",
    "\n",
    "ChatModel = MyChatOpenAI()\n",
    "llm_answer = ChatModel.llm_chat(query, [], context[0])\n",
    "print(f\"llm_answer: {llm_answer}\")"
   ]
  },
  {
   "cell_type": "code",
   "execution_count": null,
   "metadata": {},
   "outputs": [],
   "source": []
  }
 ],
 "metadata": {
  "kernelspec": {
   "display_name": "Python 3 (ipykernel)",
   "language": "python",
   "name": "python3"
  },
  "language_info": {
   "codemirror_mode": {
    "name": "ipython",
    "version": 3
   },
   "file_extension": ".py",
   "mimetype": "text/x-python",
   "name": "python",
   "nbconvert_exporter": "python",
   "pygments_lexer": "ipython3",
   "version": "3.10.14"
  }
 },
 "nbformat": 4,
 "nbformat_minor": 4
}
