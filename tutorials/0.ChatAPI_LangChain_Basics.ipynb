{
 "cells": [
  {
   "cell_type": "markdown",
   "id": "e2376f66",
   "metadata": {},
   "source": [
    "# Basic ChatAPI Learning\n",
    "\n",
    "基础的chat api 学习实例"
   ]
  },
  {
   "cell_type": "code",
   "execution_count": 29,
   "id": "dccede54",
   "metadata": {
    "ExecuteTime": {
     "end_time": "2024-09-28T06:57:28.089912Z",
     "start_time": "2024-09-28T06:57:26.825579Z"
    }
   },
   "outputs": [],
   "source": [
    "from langchain.chat_models import ChatOpenAI\n",
    "from langchain import LLMChain\n",
    "from langchain import PromptTemplate\n",
    "from langchain.prompts.chat import (\n",
    "    ChatPromptTemplate,\n",
    "    SystemMessagePromptTemplate,\n",
    "    AIMessagePromptTemplate,\n",
    "    HumanMessagePromptTemplate,\n",
    ")\n",
    "from langchain.schema import (\n",
    "    AIMessage,\n",
    "    HumanMessage,\n",
    "    SystemMessage,\n",
    "    ChatMessage\n",
    ")\n",
    "\n",
    "\n",
    "# Supporting libraries\n",
    "import os\n",
    "# from dotenv import load_dotenv\n",
    "# load_dotenv()"
   ]
  },
  {
   "cell_type": "code",
   "execution_count": 4,
   "id": "af154051",
   "metadata": {
    "ExecuteTime": {
     "end_time": "2024-09-28T06:57:29.612903Z",
     "start_time": "2024-09-28T06:57:29.596674Z"
    },
    "hide_input": false
   },
   "outputs": [],
   "source": [
    "OPENAI_API_KEY ='OPENAI_API_KEY'"
   ]
  },
  {
   "cell_type": "markdown",
   "id": "9dc0f73e",
   "metadata": {},
   "source": [
    "## 0. 简单调用\n",
    "\n",
    "1. vllm.sh 起一个LLM服务\n",
    "2. 定义接口调用"
   ]
  },
  {
   "cell_type": "code",
   "execution_count": 5,
   "id": "24231b46",
   "metadata": {
    "ExecuteTime": {
     "end_time": "2024-09-28T07:29:24.507964Z",
     "start_time": "2024-09-28T07:29:22.946314Z"
    }
   },
   "outputs": [
    {
     "name": "stderr",
     "output_type": "stream",
     "text": [
      "C:\\Users\\84404\\AppData\\Local\\Temp\\ipykernel_10972\\2435075612.py:1: LangChainDeprecationWarning: The class `ChatOpenAI` was deprecated in LangChain 0.0.10 and will be removed in 1.0. An updated version of the class exists in the :class:`~langchain-openai package and should be used instead. To use it run `pip install -U :class:`~langchain-openai` and import as `from :class:`~langchain_openai import ChatOpenAI``.\n",
      "  chat = ChatOpenAI(\n"
     ]
    }
   ],
   "source": [
    "\n",
    "chat = ChatOpenAI(\n",
    "    api_key=\"YOUR API KEY\",\n",
    "    base_url=\"http://localhost:6006/v1\",\n",
    "    temperature=0,\n",
    "    model_name='Qwen2.5-7B-Instruct' \n",
    ")\n"
   ]
  },
  {
   "cell_type": "code",
   "execution_count": 8,
   "id": "2a68def1",
   "metadata": {
    "ExecuteTime": {
     "end_time": "2024-09-28T07:32:15.853805Z",
     "start_time": "2024-09-28T07:32:15.717603Z"
    }
   },
   "outputs": [
    {
     "data": {
      "text/plain": [
       "AIMessage(content='我是Qwen，一个由阿里云开发的语言模型。我被设计用来帮助用户生成各种类型的文本，如文章、故事、诗歌等，并能够回答问题和进行对话。如果您有任何问题或需要帮助，都可以随时告诉我！', additional_kwargs={}, response_metadata={'token_usage': {'completion_tokens': 50, 'prompt_tokens': 32, 'total_tokens': 82}, 'model_name': 'Qwen2.5-7B-Instruct', 'system_fingerprint': None, 'finish_reason': 'stop', 'logprobs': None}, id='run-ff7256be-5b95-4bd4-a2c2-f3522a92492f-0')"
      ]
     },
     "execution_count": 8,
     "metadata": {},
     "output_type": "execute_result"
    }
   ],
   "source": [
    "message = [HumanMessage(content=\"你是谁?\")]\n",
    "\n",
    "chat(message)"
   ]
  },
  {
   "cell_type": "markdown",
   "id": "7409e722",
   "metadata": {},
   "source": [
    "## 1. Chat Messages类型\n",
    "* HumanMessage: 用户输入信息（常用）\n",
    "* AIMessage: 从人类正在与之互动的AI视角发送的一条信息\n",
    "* SystemMessage: 设定AI应遵循目标的一条信息（常用）\n",
    "* ChatMessage: 允许任意设定角色的一条信息。"
   ]
  },
  {
   "cell_type": "code",
   "execution_count": 10,
   "id": "dd3e4528",
   "metadata": {
    "ExecuteTime": {
     "end_time": "2024-09-28T07:32:21.683966Z",
     "start_time": "2024-09-28T07:32:21.596466Z"
    }
   },
   "outputs": [
    {
     "data": {
      "text/plain": [
       "AIMessage(content='洗澡之时，阴阳两极，一阴一阳之谓道，水汽升腾，乃天地间阴阳交融之妙景。沐浴其中，身心皆得净化，犹如太极图中阴阳鱼相互转化，洗去尘世烦恼，迎接新生。', additional_kwargs={}, response_metadata={'token_usage': {'completion_tokens': 56, 'prompt_tokens': 29, 'total_tokens': 85}, 'model_name': 'Qwen2.5-7B-Instruct', 'system_fingerprint': None, 'finish_reason': 'stop', 'logprobs': None}, id='run-37cb8e7e-cda9-46d6-ba9c-0e1cd71ea2ea-0')"
      ]
     },
     "execution_count": 10,
     "metadata": {},
     "output_type": "execute_result"
    }
   ],
   "source": [
    "messages = [\n",
    "    SystemMessage(content=\"你现在是一个阴阳大师， 说一些阴阳怪气的话。\"),\n",
    "    HumanMessage(content=\"我爱洗澡\")\n",
    "]\n",
    "chat(messages)"
   ]
  },
  {
   "cell_type": "code",
   "execution_count": 11,
   "id": "4b4d207f",
   "metadata": {
    "ExecuteTime": {
     "end_time": "2024-09-28T07:32:26.370257Z",
     "start_time": "2024-09-28T07:32:26.278312Z"
    }
   },
   "outputs": [
    {
     "data": {
      "text/plain": [
       "AIMessage(content='太阳出来晒干了你的衣服，却晒不干你潮湿的心情。', additional_kwargs={}, response_metadata={'token_usage': {'completion_tokens': 17, 'prompt_tokens': 48, 'total_tokens': 65}, 'model_name': 'Qwen2.5-7B-Instruct', 'system_fingerprint': None, 'finish_reason': 'stop', 'logprobs': None}, id='run-90cfcb7c-304c-4c91-8f3c-56b642c350af-0')"
      ]
     },
     "execution_count": 11,
     "metadata": {},
     "output_type": "execute_result"
    }
   ],
   "source": [
    "messages = [\n",
    "    SystemMessage(content=\"你现在是一个阴阳大师， 说一些阴阳怪气的话。\"),\n",
    "    HumanMessage(content=\"我爱洗澡\"),\n",
    "    AIMessage(content='也没见得你洗干净了'),\n",
    "    HumanMessage(content=\"今天天气不错\")\n",
    "]\n",
    "chat(messages)"
   ]
  },
  {
   "cell_type": "code",
   "execution_count": 30,
   "id": "b6ba38cf",
   "metadata": {},
   "outputs": [
    {
     "name": "stdout",
     "output_type": "stream",
     "text": [
      "你上一句说的是“我爱洗澡”。"
     ]
    },
    {
     "data": {
      "text/plain": [
       "AIMessage(content='你上一句说的是“我爱洗澡”。', additional_kwargs={}, response_metadata={'finish_reason': 'stop'}, id='run-8d53e55c-af25-4982-9a1f-be4d7ee2e264-0')"
      ]
     },
     "execution_count": 30,
     "metadata": {},
     "output_type": "execute_result"
    }
   ],
   "source": [
    "messages = [\n",
    "    SystemMessage(content=\"你现在是一个阴阳大师， 说一些阴阳怪气的话。\"),\n",
    "    HumanMessage(content=\"我爱洗澡\"),\n",
    "    AIMessage(content='也没见得你洗干净了'),\n",
    "    ChatMessage(role='user', content=\"我上一句说了什么？\")\n",
    "]\n",
    "chat(messages)"
   ]
  },
  {
   "cell_type": "markdown",
   "id": "baf305b3",
   "metadata": {},
   "source": [
    "## 2.Batch Messages\n",
    "\n",
    "1. 批量信息输入"
   ]
  },
  {
   "cell_type": "code",
   "execution_count": 13,
   "id": "2e2b3636",
   "metadata": {
    "ExecuteTime": {
     "end_time": "2024-09-28T07:32:37.385482Z",
     "start_time": "2024-09-28T07:32:37.242272Z"
    }
   },
   "outputs": [
    {
     "data": {
      "text/plain": [
       "LLMResult(generations=[[ChatGeneration(text='在一个漆黑的夜晚，小明穿着他的超大拖鞋，偷偷溜到学校的操场上。他以为自己可以不被发现，结果一不小心踩到了滑滑的积水，摔了个四脚朝天。更尴尬的是，他的拖鞋竟然在滑倒时飞了出去，滚到了远处的篮球架上。周围的同学都被这突如其来的“滑稽表演”逗得哈哈大笑，小明只能红着脸，一边捡拖鞋一边逃离现场。', generation_info={'finish_reason': 'stop', 'logprobs': None}, message=AIMessage(content='在一个漆黑的夜晚，小明穿着他的超大拖鞋，偷偷溜到学校的操场上。他以为自己可以不被发现，结果一不小心踩到了滑滑的积水，摔了个四脚朝天。更尴尬的是，他的拖鞋竟然在滑倒时飞了出去，滚到了远处的篮球架上。周围的同学都被这突如其来的“滑稽表演”逗得哈哈大笑，小明只能红着脸，一边捡拖鞋一边逃离现场。', additional_kwargs={}, response_metadata={'token_usage': {'completion_tokens': 104, 'prompt_tokens': 42, 'total_tokens': 146}, 'model_name': 'Qwen2.5-7B-Instruct', 'system_fingerprint': None, 'finish_reason': 'stop', 'logprobs': None}, id='run-4e68ad37-e67d-4bcf-951a-18d0bdd08ea0-0'))], [ChatGeneration(text='在一个狂风肆虐的夜晚，一只蜜蜂迷路了，它飞呀飞，突然一阵大风把它吹到了一个敞开的井盖旁。井盖“砰”的一声盖了下来，蜜蜂被困在了里面。它急得团团转，井盖却淡定地对它说：“别急，我这是新买的防蜂井盖，你这是想来个‘蜂’从天降吗？”蜜蜂无奈地回答：“我只是想找个安静的地方思考一下，没想到会遇到你这个‘盖’世英雄！”', generation_info={'finish_reason': 'stop', 'logprobs': None}, message=AIMessage(content='在一个狂风肆虐的夜晚，一只蜜蜂迷路了，它飞呀飞，突然一阵大风把它吹到了一个敞开的井盖旁。井盖“砰”的一声盖了下来，蜜蜂被困在了里面。它急得团团转，井盖却淡定地对它说：“别急，我这是新买的防蜂井盖，你这是想来个‘蜂’从天降吗？”蜜蜂无奈地回答：“我只是想找个安静的地方思考一下，没想到会遇到你这个‘盖’世英雄！”', additional_kwargs={}, response_metadata={'token_usage': {'completion_tokens': 114, 'prompt_tokens': 43, 'total_tokens': 157}, 'model_name': 'Qwen2.5-7B-Instruct', 'system_fingerprint': None, 'finish_reason': 'stop', 'logprobs': None}, id='run-acc5245d-0eea-4d0a-b254-696e9a35e16b-0'))]], llm_output={'token_usage': {'completion_tokens': 218, 'prompt_tokens': 85, 'total_tokens': 303}, 'model_name': 'Qwen2.5-7B-Instruct'}, run=[RunInfo(run_id=UUID('4e68ad37-e67d-4bcf-951a-18d0bdd08ea0')), RunInfo(run_id=UUID('acc5245d-0eea-4d0a-b254-696e9a35e16b'))], type='LLMResult')"
      ]
     },
     "execution_count": 13,
     "metadata": {},
     "output_type": "execute_result"
    }
   ],
   "source": [
    "batch_messages = [\n",
    "    [\n",
    "        SystemMessage(content=\"你是一个故事大王，用户输入3个词，你帮忙写出一个100字内的搞笑故事\"),\n",
    "        HumanMessage(content=\"黑夜，拖鞋，操场\")\n",
    "    ],\n",
    "    [\n",
    "        SystemMessage(content=\"你是一个故事大王，用户输入3个词，你帮忙写出一个100字内的搞笑故事\"),\n",
    "        HumanMessage(content=\"狂风，蜜蜂，井盖\")\n",
    "    ],\n",
    "]\n",
    "chat.generate(batch_messages)"
   ]
  },
  {
   "cell_type": "markdown",
   "id": "e3600f53",
   "metadata": {},
   "source": [
    "## 3.Prompt Templates（Prompt模板）\n",
    "With one or more `MessagePromptTemplates` you can build a `ChatPromptTemplate`"
   ]
  },
  {
   "cell_type": "code",
   "execution_count": 18,
   "id": "ddf3c969",
   "metadata": {
    "ExecuteTime": {
     "end_time": "2024-09-28T07:32:41.792983Z",
     "start_time": "2024-09-28T07:32:41.775967Z"
    }
   },
   "outputs": [],
   "source": [
    "# Make SystemMessagePromptTemplate\n",
    "prompt=PromptTemplate(\n",
    "    template=\"你是一个故事大王，你帮忙将用户输入的三个词：{word1}, {word2}, {word3}，组合起来写出一个100字内的故事 \",\n",
    "    input_variables=[\"word1\", \"word2\", \"word3\"]\n",
    ")\n",
    "\n",
    "system_message_prompt = SystemMessagePromptTemplate(prompt=prompt)"
   ]
  },
  {
   "cell_type": "code",
   "execution_count": 19,
   "id": "401f2bd4",
   "metadata": {
    "ExecuteTime": {
     "end_time": "2024-09-28T07:32:44.558392Z",
     "start_time": "2024-09-28T07:32:44.546380Z"
    }
   },
   "outputs": [
    {
     "data": {
      "text/plain": [
       "SystemMessage(content='你是一个故事大王，你帮忙将用户输入的三个词：KFC, 小鸡, 奶油，组合起来写出一个100字内的故事 ', additional_kwargs={}, response_metadata={})"
      ]
     },
     "execution_count": 19,
     "metadata": {},
     "output_type": "execute_result"
    }
   ],
   "source": [
    "# Output of system_message_prompt\n",
    "system_message_prompt.format(word1=\"KFC\", word2=\"小鸡\", word3=\"奶油\")"
   ]
  },
  {
   "cell_type": "code",
   "execution_count": 20,
   "id": "a2c9e821",
   "metadata": {
    "ExecuteTime": {
     "end_time": "2024-09-28T07:32:47.779310Z",
     "start_time": "2024-09-28T07:32:47.773305Z"
    }
   },
   "outputs": [],
   "source": [
    "# Make HumanMessagePromptTemplate\n",
    "human_template=\"{text}\"\n",
    "human_message_prompt = HumanMessagePromptTemplate.from_template(human_template)"
   ]
  },
  {
   "cell_type": "code",
   "execution_count": 21,
   "id": "1947bf3a",
   "metadata": {
    "ExecuteTime": {
     "end_time": "2024-09-28T07:32:52.696824Z",
     "start_time": "2024-09-28T07:32:52.685814Z"
    }
   },
   "outputs": [
    {
     "data": {
      "text/plain": [
       "ChatPromptTemplate(input_variables=['text', 'word1', 'word2', 'word3'], input_types={}, partial_variables={}, messages=[SystemMessagePromptTemplate(prompt=PromptTemplate(input_variables=['word1', 'word2', 'word3'], input_types={}, partial_variables={}, template='你是一个故事大王，你帮忙将用户输入的三个词：{word1}, {word2}, {word3}，组合起来写出一个100字内的故事 '), additional_kwargs={}), HumanMessagePromptTemplate(prompt=PromptTemplate(input_variables=['text'], input_types={}, partial_variables={}, template='{text}'), additional_kwargs={})])"
      ]
     },
     "execution_count": 21,
     "metadata": {},
     "output_type": "execute_result"
    }
   ],
   "source": [
    "# Create ChatPromptTemplate: Combine System + Human\n",
    "chat_prompt = ChatPromptTemplate.from_messages([system_message_prompt, human_message_prompt])\n",
    "chat_prompt"
   ]
  },
  {
   "cell_type": "code",
   "execution_count": 22,
   "id": "e97284de",
   "metadata": {
    "ExecuteTime": {
     "end_time": "2024-09-28T07:32:57.690555Z",
     "start_time": "2024-09-28T07:32:57.684550Z"
    }
   },
   "outputs": [
    {
     "data": {
      "text/plain": [
       "[SystemMessage(content='你是一个故事大王，你帮忙将用户输入的三个词：KFC, 小鸡, 奶油，组合起来写出一个100字内的故事 ', additional_kwargs={}, response_metadata={}),\n",
       " HumanMessage(content='帮我写一个幽默一点的故事', additional_kwargs={}, response_metadata={})]"
      ]
     },
     "execution_count": 22,
     "metadata": {},
     "output_type": "execute_result"
    }
   ],
   "source": [
    "chat_prompt_with_values = chat_prompt.format_prompt(word1=\"KFC\", word2=\"小鸡\", word3=\"奶油\",\n",
    "                                                   text=\"帮我写一个幽默一点的故事\")\n",
    "\n",
    "chat_prompt_with_values.to_messages()"
   ]
  },
  {
   "cell_type": "code",
   "execution_count": 23,
   "id": "c0de4582",
   "metadata": {
    "ExecuteTime": {
     "end_time": "2024-09-28T07:33:00.402516Z",
     "start_time": "2024-09-28T07:32:58.350684Z"
    }
   },
   "outputs": [
    {
     "name": "stdout",
     "output_type": "stream",
     "text": [
      "有一天，KFC的老板突发奇想，决定推出一款新品——奶油味的小鸡。大家都觉得这主意太疯狂了，但老板坚信“疯狂才能出奇迹”。于是，KFC的小鸡们被涂上了厚厚的奶油，变成了“奶油小鸡”。上市当天，KFC门口排起了长龙，人们纷纷前来尝鲜。结果，小鸡们不仅没被吃掉，反而成了网红，大家都说：“这小鸡太可爱了，简直像奶油蛋糕！”老板笑得合不拢嘴，心想：“看来，疯狂的创意也能带来意想不到的惊喜！”\n"
     ]
    }
   ],
   "source": [
    "response = chat(chat_prompt_with_values.to_messages()).content\n",
    "print (response)"
   ]
  },
  {
   "cell_type": "markdown",
   "id": "20a756b5",
   "metadata": {},
   "source": [
    "## 4.With Streaming\n",
    "\n",
    "1. 流式输出 "
   ]
  },
  {
   "cell_type": "code",
   "execution_count": 26,
   "id": "aac2d6f7",
   "metadata": {
    "ExecuteTime": {
     "end_time": "2024-09-28T07:35:09.212520Z",
     "start_time": "2024-09-28T07:35:02.294279Z"
    }
   },
   "outputs": [
    {
     "name": "stderr",
     "output_type": "stream",
     "text": [
      "C:\\Users\\84404\\AppData\\Local\\Temp\\ipykernel_10972\\2653720537.py:4: DeprecationWarning: callback_manager is deprecated. Please use callbacks instead.\n",
      "  chat = ChatOpenAI(api_key=\"YOUR API KEY\"\n"
     ]
    },
    {
     "name": "stdout",
     "output_type": "stream",
     "text": [
      "有一天，KFC的老板突发奇想，决定推出一款新品——奶油味的小鸡。大家都觉得这主意太疯狂了，但老板坚信“疯狂才能出奇迹”。于是，KFC的小鸡们被涂上了厚厚的奶油，变成了“奶油小鸡”。上市当天，KFC门口排起了长龙，人们纷纷前来尝鲜。结果，小鸡们不仅没被吃掉，反而成了网红，大家都说：“这小鸡太可爱了，简直像奶油蛋糕！”老板笑得合不拢嘴，心想：“看来，疯狂的创意也能带来意想不到的惊喜！”"
     ]
    }
   ],
   "source": [
    "from langchain.callbacks.manager import CallbackManager\n",
    "from langchain.callbacks.streaming_stdout import StreamingStdOutCallbackHandler\n",
    "\n",
    "chat = ChatOpenAI(api_key=\"YOUR API KEY\"\n",
    "                  , base_url=\"http://localhost:6006/v1\"\n",
    "                  , temperature=0\n",
    "                  , model_name='Qwen2.5-7B-Instruct' \n",
    "                  , streaming=True\n",
    "                  , callback_manager=CallbackManager([StreamingStdOutCallbackHandler()])\n",
    "                  , verbose=True)\n",
    "resp = chat(chat_prompt_with_values.to_messages())"
   ]
  },
  {
   "cell_type": "code",
   "execution_count": null,
   "id": "d771a133",
   "metadata": {},
   "outputs": [],
   "source": []
  }
 ],
 "metadata": {
  "kernelspec": {
   "display_name": "Python 3 (ipykernel)",
   "language": "python",
   "name": "python3"
  },
  "language_info": {
   "codemirror_mode": {
    "name": "ipython",
    "version": 3
   },
   "file_extension": ".py",
   "mimetype": "text/x-python",
   "name": "python",
   "nbconvert_exporter": "python",
   "pygments_lexer": "ipython3",
   "version": "3.10.14"
  }
 },
 "nbformat": 4,
 "nbformat_minor": 5
}
